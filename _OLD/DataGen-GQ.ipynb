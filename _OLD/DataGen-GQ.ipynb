{
 "cells": [
  {
   "cell_type": "code",
   "execution_count": 14,
   "metadata": {
    "collapsed": false
   },
   "outputs": [
    {
     "name": "stdout",
     "output_type": "stream",
     "text": [
      "The autoreload extension is already loaded. To reload it, use:\n",
      "  %reload_ext autoreload\n"
     ]
    }
   ],
   "source": [
    "import os\n",
    "from time import time\n",
    "import numpy as np\n",
    "import pandas as pd\n",
    "from matplotlib import pyplot as plt\n",
    "import seaborn as sns\n",
    "%matplotlib inline\n",
    "\n",
    "%load_ext autoreload\n",
    "%autoreload 2\n",
    "\n",
    "from sklearn.cross_validation import train_test_split\n",
    "from sklearn.preprocessing import StandardScaler\n",
    "from sklearn.feature_selection import SelectKBest\n",
    "\n",
    "from sklearn.svm import SVR\n",
    "from sklearn.svm import SVC\n",
    "\n",
    "from sklearn.metrics import classification_report"
   ]
  },
  {
   "cell_type": "code",
   "execution_count": 15,
   "metadata": {
    "collapsed": false
   },
   "outputs": [],
   "source": [
    "quandl_df = pd.read_csv(\"quandl.csv\")\n",
    "goog_df = pd.read_csv(\"goog.csv\")\n",
    "GQ_df = quandl_df.merge(goog_df, how=\"inner\", on=[\"ticker\", \"date\"])"
   ]
  },
  {
   "cell_type": "code",
   "execution_count": 16,
   "metadata": {
    "collapsed": false
   },
   "outputs": [
    {
     "data": {
      "text/plain": [
       "Index([u'Open', u'High', u'Low', u'Close', u'Volume', u'date', u'50dravg',\n",
       "       u'200dravg', u'OC%', u'HL%', u'OH%', u'LastOpen', u'LastHigh',\n",
       "       u'LastLow', u'LastClose', u'LastVolume', u'LastOC%', u'LastHL%',\n",
       "       u'LastOH%', u'ticker', u'label', u'CLOSE_x', u'CLOSE_y', u'HIGH_x',\n",
       "       u'HIGH_y', u'LOW_x', u'LOW_y', u'OPEN_x', u'OPEN_y', u'VOLUME_x',\n",
       "       u'VOLUME_y', u'lo_hi%_x', u'lo_hi%_y', u'op_cl%_x', u'op_cl%_y',\n",
       "       u'time_x', u'time_y', u'volume_change', u'volume_change_perc',\n",
       "       u'week_day_x', u'week_day_y'],\n",
       "      dtype='object')"
      ]
     },
     "execution_count": 16,
     "metadata": {},
     "output_type": "execute_result"
    }
   ],
   "source": [
    "GQ_df.columns"
   ]
  },
  {
   "cell_type": "code",
   "execution_count": 17,
   "metadata": {
    "collapsed": false
   },
   "outputs": [
    {
     "data": {
      "text/plain": [
       "array(['2015-06-29', '2015-06-30', '2015-07-02', '2015-07-06',\n",
       "       '2015-07-07', '2015-07-08', '2015-07-09', '2015-07-10',\n",
       "       '2015-07-13', '2015-07-14', '2015-07-15', '2015-07-16',\n",
       "       '2015-07-17', '2015-07-20', '2015-07-21', '2015-07-22',\n",
       "       '2015-07-23', '2015-07-24', '2015-07-27', '2015-07-28',\n",
       "       '2015-07-29', '2015-07-30', '2015-07-31', '2015-08-03',\n",
       "       '2015-08-04', '2015-08-05', '2015-08-06', '2015-06-26',\n",
       "       '2015-08-24', '2015-06-22', '2015-06-23', '2015-06-24',\n",
       "       '2015-06-25', '2015-07-01', '2015-08-07', '2015-08-10',\n",
       "       '2015-08-11', '2015-08-12', '2015-08-13', '2015-08-14',\n",
       "       '2015-08-17', '2015-08-18', '2015-08-19', '2015-08-20',\n",
       "       '2015-08-21', '2015-08-25', '2015-08-26', '2015-08-27'], dtype=object)"
      ]
     },
     "execution_count": 17,
     "metadata": {},
     "output_type": "execute_result"
    }
   ],
   "source": [
    "GQ_df['date'].unique()"
   ]
  },
  {
   "cell_type": "code",
   "execution_count": 18,
   "metadata": {
    "collapsed": false
   },
   "outputs": [],
   "source": [
    "GQ_df['label'] = (GQ_df['Close'] / GQ_df['Open']) - 1\n",
    "GQ_df = GQ_df.replace([np.inf, -np.inf], np.nan)\n",
    "GQ_df = GQ_df.dropna()\n",
    "GQ_df.to_csv('GQ.csv', index=False)"
   ]
  },
  {
   "cell_type": "code",
   "execution_count": 19,
   "metadata": {
    "collapsed": false
   },
   "outputs": [
    {
     "name": "stdout",
     "output_type": "stream",
     "text": [
      "(2187, 19)\n",
      "(19,)\n",
      "[  8.62200022e-01   9.05250013e-01   1.00000000e+00   1.23000002e+00\n",
      "   1.00000000e+00   1.04999995e+00   3.87010000e+06   5.00000007e-02\n",
      "   2.30000004e-01   2.30000004e-01   1.04999995e+00   1.04999995e+00\n",
      "   1.04999995e+00   1.04999995e+00   7.35900000e+03   0.00000000e+00\n",
      "   0.00000000e+00   9.64850000e+04   1.31111565e+01]\n"
     ]
    }
   ],
   "source": [
    "X_df = GQ_df[['50dravg', '200dravg', 'LastOpen', 'LastHigh', 'LastLow', 'LastClose', 'LastVolume', 'LastOC%', 'LastHL%', 'LastOH%', 'CLOSE_x', 'HIGH_x', 'LOW_x', 'OPEN_x', 'VOLUME_x', 'op_cl%_x', 'lo_hi%_x', 'volume_change', 'volume_change_perc']]\n",
    "#X_df = GQ_df.drop(['date','label'], axis=1)\n",
    "#X_df['ticker'] = X_df['ticker'].astype('category').cat.codes\n",
    "X = X_df.values.astype('float32')\n",
    "print X.shape\n",
    "print X[0].shape\n",
    "print X[0]"
   ]
  },
  {
   "cell_type": "code",
   "execution_count": 20,
   "metadata": {
    "collapsed": false
   },
   "outputs": [
    {
     "name": "stdout",
     "output_type": "stream",
     "text": [
      "(2187,)\n",
      "()\n",
      "0.0\n"
     ]
    },
    {
     "data": {
      "image/png": "[encoded data removed]",
      "text/plain": [
       "<matplotlib.figure.Figure at 0x108bfcf10>"
      ]
     },
     "metadata": {},
     "output_type": "display_data"
    }
   ],
   "source": [
    "Y_df = GQ_df.loc[:, 'label'].map(lambda x: 1 if x >= 0.02 else 0)\n",
    "Y = Y_df.values.astype('float32')\n",
    "print Y.shape\n",
    "print Y[0].shape\n",
    "print Y[0]\n",
    "plt.hist(Y, bins=50)\n",
    "plt.show()"
   ]
  },
  {
   "cell_type": "code",
   "execution_count": 21,
   "metadata": {
    "collapsed": false
   },
   "outputs": [],
   "source": [
    "# BALANCE\n",
    "balance_labeled_data = False\n",
    "# BALANCE LABELS\n",
    "if balance_labeled_data == True:\n",
    "    # randomly balance labeled data\n",
    "    indices_Y_is_0 = np.where(Y == 0)[0]\n",
    "    #print indices_Y_is_0.shape[0]\n",
    "    indices_Y_is_1 = np.where(Y == 1)[0]\n",
    "    #print indices_Y_is_1.shape[0]\n",
    "\n",
    "    subset_indices_Y_is_0 = np.random.choice(indices_Y_is_0, indices_Y_is_1.shape[0])\n",
    "    X_is_0 = X[subset_indices_Y_is_0]\n",
    "    Y_is_0 = Y[subset_indices_Y_is_0]\n",
    "    X_is_1 = X[indices_Y_is_1]\n",
    "    Y_is_1 = Y[indices_Y_is_1]\n",
    "\n",
    "    X = np.concatenate((X_is_0,X_is_1))\n",
    "    Y = np.concatenate((Y_is_0,Y_is_1))\n",
    "\n",
    "    plt.hist(Y)\n",
    "    plt.show()"
   ]
  },
  {
   "cell_type": "code",
   "execution_count": 22,
   "metadata": {
    "collapsed": false
   },
   "outputs": [
    {
     "name": "stdout",
     "output_type": "stream",
     "text": [
      "50dravg 0.0420349\n",
      "200dravg 1.53215\n",
      "LastOpen 0.000764648\n",
      "LastHigh 0.00073023\n",
      "LastLow 0.0555198\n",
      "LastClose 0.0295573\n",
      "LastVolume 6.71355\n",
      "LastOC% 4.39473\n",
      "LastHL% 3.31506\n",
      "LastOH% 0.0807373\n",
      "CLOSE_x 0.128997\n",
      "HIGH_x 0.121835\n",
      "LOW_x 0.163429\n",
      "OPEN_x 0.155472\n",
      "VOLUME_x 37.7006\n",
      "op_cl%_x 6.29325\n",
      "lo_hi%_x 11.7165\n",
      "volume_change 22.5883\n",
      "volume_change_perc 1.35633\n"
     ]
    }
   ],
   "source": [
    "skb = SelectKBest()\n",
    "skb.fit(X,Y)\n",
    "cols = X_df.columns\n",
    "for i in xrange(cols.shape[0]):\n",
    "    print cols[i], skb.scores_[i]"
   ]
  },
  {
   "cell_type": "code",
   "execution_count": 23,
   "metadata": {
    "collapsed": false
   },
   "outputs": [],
   "source": [
    "# BREAK UP DATA\n",
    "X_train, X_val_test, y_train, y_val_test = train_test_split(X, Y, test_size=0.3, random_state=42)\n",
    "X_validation, X_test, y_validation, y_test = train_test_split(X_val_test, y_val_test, test_size=0.5, random_state=42)\n",
    "\n",
    "# SCALE\n",
    "scaler = StandardScaler()\n",
    "scaler.fit(X_train)\n",
    "X_train = scaler.transform(X_train)"
   ]
  },
  {
   "cell_type": "markdown",
   "metadata": {},
   "source": [
    "---"
   ]
  },
  {
   "cell_type": "code",
   "execution_count": 24,
   "metadata": {
    "collapsed": false
   },
   "outputs": [
    {
     "name": "stdout",
     "output_type": "stream",
     "text": [
      "k = 10 C = 0.03125 epsilon = 0.01 gamma = 32768.0 score: 0.853658536585\n",
      "k = 18 C = 3.0517578125e-05 epsilon = 0.1 gamma = 1.0 score: 0.853658536585\n",
      "k = 7 C = 0.03125 epsilon = 0.1 gamma = 1024.0 score: 0.853658536585\n",
      "k = 3 C = 1.0 epsilon = 0.1 gamma = 0.0009765625 score: 0.146341463415\n",
      "k = 4 C = 32.0 epsilon = 0.0001 gamma = 32768.0 score: 0.853658536585\n",
      "k = 11 C = 32.0 epsilon = 0.01 gamma = 32768.0 score: 0.853658536585\n",
      "k = 18 C = 32768.0 epsilon = 0.001 gamma = 32.0 score: 0.853658536585\n",
      "k = 10 C = 1024.0 epsilon = 0.1 gamma = 0.03125 score: 0.146341463415\n",
      "k = 18 C = 0.03125 epsilon = 0.01 gamma = 1.0 score: 0.853658536585\n",
      "k = 17 C = 3.0517578125e-05 epsilon = 0.0001 gamma = 32768.0 score: 0.853658536585\n",
      "k = 3 C = 32768.0 epsilon = 0.1 gamma = 32768.0 score: 0.853658536585\n",
      "k = 7 C = 0.03125 epsilon = 0.01 gamma = 1024.0 score: 0.853658536585\n",
      "k = 8 C = 0.03125 epsilon = 0.001 gamma = 32.0 score: 0.853658536585\n",
      "k = 8 C = 1.0 epsilon = 0.001 gamma = 32.0 score: 0.853658536585\n",
      "k = 2 C = 32768.0 epsilon = 0.0001 gamma = 3.0517578125e-05 score: 0.853658536585\n",
      "k = 12 C = 3.0517578125e-05 epsilon = 0.1 gamma = 3.0517578125e-05 score: 0.853658536585\n",
      "k = 3 C = 32.0 epsilon = 0.01 gamma = 1024.0 score: 0.853658536585\n",
      "k = 16 C = 0.0009765625 epsilon = 0.01 gamma = 0.0009765625 score: 0.853658536585\n"
     ]
    },
    {
     "ename": "ValueError",
     "evalue": "Input contains NaN, infinity or a value too large for dtype('float32').",
     "output_type": "error",
     "traceback": [
      "\u001b[0;31m---------------------------------------------------------------------------\u001b[0m",
      "\u001b[0;31mValueError\u001b[0m                                Traceback (most recent call last)",
      "\u001b[0;32m<ipython-input-24-650f4b72cf3b>\u001b[0m in \u001b[0;36m<module>\u001b[0;34m()\u001b[0m\n\u001b[1;32m     22\u001b[0m \u001b[0;34m\u001b[0m\u001b[0m\n\u001b[1;32m     23\u001b[0m     \u001b[0mX_validation\u001b[0m \u001b[0;34m=\u001b[0m \u001b[0mscaler\u001b[0m\u001b[0;34m.\u001b[0m\u001b[0mtransform\u001b[0m\u001b[0;34m(\u001b[0m\u001b[0mX_validation\u001b[0m\u001b[0;34m)\u001b[0m\u001b[0;34m\u001b[0m\u001b[0m\n\u001b[0;32m---> 24\u001b[0;31m     \u001b[0mskb_X_validation\u001b[0m \u001b[0;34m=\u001b[0m \u001b[0mskb\u001b[0m\u001b[0;34m.\u001b[0m\u001b[0mtransform\u001b[0m\u001b[0;34m(\u001b[0m\u001b[0mX_validation\u001b[0m\u001b[0;34m)\u001b[0m\u001b[0;34m\u001b[0m\u001b[0m\n\u001b[0m\u001b[1;32m     25\u001b[0m     \u001b[0;32mprint\u001b[0m \u001b[0;34m\"k =\"\u001b[0m\u001b[0;34m,\u001b[0m \u001b[0mk\u001b[0m\u001b[0;34m,\u001b[0m \u001b[0;34m\"C =\"\u001b[0m\u001b[0;34m,\u001b[0m \u001b[0mC\u001b[0m\u001b[0;34m,\u001b[0m \u001b[0;34m\"epsilon =\"\u001b[0m\u001b[0;34m,\u001b[0m \u001b[0mepsilon\u001b[0m\u001b[0;34m,\u001b[0m \u001b[0;34m\"gamma =\"\u001b[0m\u001b[0;34m,\u001b[0m \u001b[0mgamma\u001b[0m\u001b[0;34m,\u001b[0m \u001b[0;34m\"score:\"\u001b[0m\u001b[0;34m,\u001b[0m \u001b[0mclf\u001b[0m\u001b[0;34m.\u001b[0m\u001b[0mscore\u001b[0m\u001b[0;34m(\u001b[0m\u001b[0mskb_X_validation\u001b[0m\u001b[0;34m,\u001b[0m\u001b[0my_validation\u001b[0m\u001b[0;34m)\u001b[0m\u001b[0;34m\u001b[0m\u001b[0m\n\u001b[1;32m     26\u001b[0m \u001b[0;31m#'''\u001b[0m\u001b[0;34m\u001b[0m\u001b[0;34m\u001b[0m\u001b[0m\n",
      "\u001b[0;32m/usr/local/lib/python2.7/site-packages/sklearn/feature_selection/base.pyc\u001b[0m in \u001b[0;36mtransform\u001b[0;34m(self, X)\u001b[0m\n\u001b[1;32m     73\u001b[0m             \u001b[0mThe\u001b[0m \u001b[0minput\u001b[0m \u001b[0msamples\u001b[0m \u001b[0;32mwith\u001b[0m \u001b[0monly\u001b[0m \u001b[0mthe\u001b[0m \u001b[0mselected\u001b[0m \u001b[0mfeatures\u001b[0m\u001b[0;34m.\u001b[0m\u001b[0;34m\u001b[0m\u001b[0m\n\u001b[1;32m     74\u001b[0m         \"\"\"\n\u001b[0;32m---> 75\u001b[0;31m         \u001b[0mX\u001b[0m \u001b[0;34m=\u001b[0m \u001b[0mcheck_array\u001b[0m\u001b[0;34m(\u001b[0m\u001b[0mX\u001b[0m\u001b[0;34m,\u001b[0m \u001b[0maccept_sparse\u001b[0m\u001b[0;34m=\u001b[0m\u001b[0;34m'csr'\u001b[0m\u001b[0;34m)\u001b[0m\u001b[0;34m\u001b[0m\u001b[0m\n\u001b[0m\u001b[1;32m     76\u001b[0m         \u001b[0mmask\u001b[0m \u001b[0;34m=\u001b[0m \u001b[0mself\u001b[0m\u001b[0;34m.\u001b[0m\u001b[0mget_support\u001b[0m\u001b[0;34m(\u001b[0m\u001b[0;34m)\u001b[0m\u001b[0;34m\u001b[0m\u001b[0m\n\u001b[1;32m     77\u001b[0m         \u001b[0;32mif\u001b[0m \u001b[0;32mnot\u001b[0m \u001b[0mmask\u001b[0m\u001b[0;34m.\u001b[0m\u001b[0many\u001b[0m\u001b[0;34m(\u001b[0m\u001b[0;34m)\u001b[0m\u001b[0;34m:\u001b[0m\u001b[0;34m\u001b[0m\u001b[0m\n",
      "\u001b[0;32m/usr/local/lib/python2.7/site-packages/sklearn/utils/validation.pyc\u001b[0m in \u001b[0;36mcheck_array\u001b[0;34m(array, accept_sparse, dtype, order, copy, force_all_finite, ensure_2d, allow_nd, ensure_min_samples, ensure_min_features)\u001b[0m\n\u001b[1;32m    350\u001b[0m                              array.ndim)\n\u001b[1;32m    351\u001b[0m         \u001b[0;32mif\u001b[0m \u001b[0mforce_all_finite\u001b[0m\u001b[0;34m:\u001b[0m\u001b[0;34m\u001b[0m\u001b[0m\n\u001b[0;32m--> 352\u001b[0;31m             \u001b[0m_assert_all_finite\u001b[0m\u001b[0;34m(\u001b[0m\u001b[0marray\u001b[0m\u001b[0;34m)\u001b[0m\u001b[0;34m\u001b[0m\u001b[0m\n\u001b[0m\u001b[1;32m    353\u001b[0m \u001b[0;34m\u001b[0m\u001b[0m\n\u001b[1;32m    354\u001b[0m     \u001b[0mshape_repr\u001b[0m \u001b[0;34m=\u001b[0m \u001b[0m_shape_repr\u001b[0m\u001b[0;34m(\u001b[0m\u001b[0marray\u001b[0m\u001b[0;34m.\u001b[0m\u001b[0mshape\u001b[0m\u001b[0;34m)\u001b[0m\u001b[0;34m\u001b[0m\u001b[0m\n",
      "\u001b[0;32m/usr/local/lib/python2.7/site-packages/sklearn/utils/validation.pyc\u001b[0m in \u001b[0;36m_assert_all_finite\u001b[0;34m(X)\u001b[0m\n\u001b[1;32m     50\u001b[0m             and not np.isfinite(X).all()):\n\u001b[1;32m     51\u001b[0m         raise ValueError(\"Input contains NaN, infinity\"\n\u001b[0;32m---> 52\u001b[0;31m                          \" or a value too large for %r.\" % X.dtype)\n\u001b[0m\u001b[1;32m     53\u001b[0m \u001b[0;34m\u001b[0m\u001b[0m\n\u001b[1;32m     54\u001b[0m \u001b[0;34m\u001b[0m\u001b[0m\n",
      "\u001b[0;31mValueError\u001b[0m: Input contains NaN, infinity or a value too large for dtype('float32')."
     ]
    }
   ],
   "source": [
    "#'''\n",
    "# hyperparameters\n",
    "ks = [x for x in xrange(1,X.shape[1])]\n",
    "Cs = [2**x for x in xrange(-15, 20, 5)]\n",
    "epsilons = [10**-x for x in xrange(1,5)]\n",
    "gammas = [2**x for x in xrange(-15, 20, 5)]\n",
    "\n",
    "# RANDOM SEARCH\n",
    "for i in xrange(20):\n",
    "    k = np.random.choice(ks)\n",
    "    skb = SelectKBest(k=k)\n",
    "    skb = skb.fit(X_train,y_train)\n",
    "    skb_X_train = skb.transform(X_train)\n",
    "    \n",
    "    C = np.random.choice(Cs)\n",
    "    epsilon = np.random.choice(epsilons)\n",
    "    gamma = np.random.choice(gammas)\n",
    "    \n",
    "    #clf = SVR(C=C, cache_size=200, coef0=0.0, degree=3, epsilon=epsilon, gamma=gamma, kernel='rbf', max_iter=-1, shrinking=True, tol=0.001, verbose=False)\n",
    "    clf = SVC(C=C, cache_size=200, class_weight='auto', coef0=0.0, degree=3, gamma=gamma, kernel='rbf', max_iter=-1, probability=False, random_state=42, shrinking=True, tol=0.001, verbose=False)\n",
    "    clf.fit(skb_X_train,y_train)\n",
    "    \n",
    "    X_validation = scaler.transform(X_validation)\n",
    "    skb_X_validation = skb.transform(X_validation)\n",
    "    print \"k =\", k, \"C =\", C, \"epsilon =\", epsilon, \"gamma =\", gamma, \"score:\", clf.score(skb_X_validation,y_validation)\n",
    "#'''"
   ]
  },
  {
   "cell_type": "code",
   "execution_count": null,
   "metadata": {
    "collapsed": false
   },
   "outputs": [],
   "source": [
    "[2**x for x in xrange(-15, 20, 5)]"
   ]
  },
  {
   "cell_type": "code",
   "execution_count": null,
   "metadata": {
    "collapsed": false
   },
   "outputs": [],
   "source": [
    "X_test = scaler.transform(X_test)"
   ]
  },
  {
   "cell_type": "code",
   "execution_count": null,
   "metadata": {
    "collapsed": false
   },
   "outputs": [],
   "source": [
    "#'''\n",
    "skb = SelectKBest(k=2)\n",
    "skb = skb.fit(X_train,y_train)\n",
    "skb_X_train = skb.transform(X_train)\n",
    "\n",
    "skb_X_test = skb.transform(X_test)\n",
    "\n",
    "clf = SVC(C=2**5, cache_size=200, class_weight='auto', coef0=0.0, degree=3, gamma=2**-15, kernel='rbf', max_iter=-1, probability=True, random_state=42, shrinking=True, tol=0.001, verbose=False)\n",
    "clf.fit(skb_X_train,y_train.ravel())\n",
    "clf.score(skb_X_test,y_test.ravel())\n",
    "#'''"
   ]
  },
  {
   "cell_type": "code",
   "execution_count": null,
   "metadata": {
    "collapsed": false
   },
   "outputs": [],
   "source": [
    "print classification_report(y_test, clf.predict(skb_X_test))"
   ]
  },
  {
   "cell_type": "code",
   "execution_count": null,
   "metadata": {
    "collapsed": false
   },
   "outputs": [],
   "source": [
    "#from nn import *\n",
    "# RANDOM SEARCH\n",
    "#for i in xrange(10):\n",
    "#    NN(X_df.columns,X,Y)"
   ]
  },
  {
   "cell_type": "markdown",
   "metadata": {},
   "source": [
    "---"
   ]
  },
  {
   "cell_type": "code",
   "execution_count": null,
   "metadata": {
    "collapsed": false
   },
   "outputs": [],
   "source": [
    "pred_tickers = GQ_df['ticker'].unique()\n",
    "pred_tickers"
   ]
  },
  {
   "cell_type": "code",
   "execution_count": null,
   "metadata": {
    "collapsed": true
   },
   "outputs": [],
   "source": [
    "pred_df = pd.DataFrame()\n",
    "for ticker in pred_tickers:\n",
    "    "
   ]
  }
 ],
 "metadata": {
  "kernelspec": {
   "display_name": "Python 2",
   "language": "python",
   "name": "python2"
  },
  "language_info": {
   "codemirror_mode": {
    "name": "ipython",
    "version": 2
   },
   "file_extension": ".py",
   "mimetype": "text/x-python",
   "name": "python",
   "nbconvert_exporter": "python",
   "pygments_lexer": "ipython2",
   "version": "2.7.10"
  }
 },
 "nbformat": 4,
 "nbformat_minor": 0
}
