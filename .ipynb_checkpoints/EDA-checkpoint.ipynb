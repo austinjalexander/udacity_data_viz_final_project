{
 "cells": [
  {
   "cell_type": "code",
   "execution_count": null,
   "metadata": {
    "collapsed": false
   },
   "outputs": [],
   "source": [
    "import numpy as np\n",
    "import pandas as pd\n",
    "from sklearn.preprocessing import StandardScaler\n",
    "from matplotlib import pyplot as plt\n",
    "import seaborn as sns\n",
    "\n",
    "%matplotlib inline"
   ]
  },
  {
   "cell_type": "code",
   "execution_count": null,
   "metadata": {
    "collapsed": false
   },
   "outputs": [],
   "source": [
    "data_df = pd.read_csv('data/GQ.csv')\n",
    "data_df.head()"
   ]
  },
  {
   "cell_type": "code",
   "execution_count": null,
   "metadata": {
    "collapsed": false
   },
   "outputs": [],
   "source": [
    "data_df.dtypes"
   ]
  },
  {
   "cell_type": "code",
   "execution_count": null,
   "metadata": {
    "collapsed": false
   },
   "outputs": [],
   "source": [
    "data_df.describe()"
   ]
  },
  {
   "cell_type": "code",
   "execution_count": null,
   "metadata": {
    "collapsed": false
   },
   "outputs": [],
   "source": [
    "data_df = data_df[['Open', 'High', 'Low', 'Close', 'Volume', 'date', '50dravg',\n",
    "                   '200dravg', 'OC%', 'HL%', 'OH%', 'LastOpen', 'LastHigh',\n",
    "                   'LastLow', 'LastClose', 'LastVolume', 'LastOC%', 'LastHL%',\n",
    "                   'LastOH%', 'ticker', 'label']]"
   ]
  },
  {
   "cell_type": "code",
   "execution_count": null,
   "metadata": {
    "collapsed": false
   },
   "outputs": [],
   "source": [
    "tickers = data_df['ticker'].unique()\n",
    "tickers"
   ]
  },
  {
   "cell_type": "code",
   "execution_count": null,
   "metadata": {
    "collapsed": false
   },
   "outputs": [],
   "source": [
    "for ticker in tickers:\n",
    "    data_df.loc[data_df['ticker'] == ticker, 'label'] = data_df.loc[data_df['ticker'] == ticker, 'label'].shift(-1)"
   ]
  },
  {
   "cell_type": "code",
   "execution_count": null,
   "metadata": {
    "collapsed": false
   },
   "outputs": [],
   "source": [
    "data_df = data_df.dropna()"
   ]
  },
  {
   "cell_type": "code",
   "execution_count": null,
   "metadata": {
    "collapsed": false
   },
   "outputs": [],
   "source": [
    "#data_df['label'] = data_df['label'].map(lambda x: 1 if x >= 0.10 else 0)"
   ]
  },
  {
   "cell_type": "code",
   "execution_count": null,
   "metadata": {
    "collapsed": false
   },
   "outputs": [],
   "source": [
    "def scale(df):\n",
    "    columns = list(df.columns)\n",
    "    columns.remove('date')\n",
    "    columns.remove('label')\n",
    "    columns.remove('ticker')\n",
    "\n",
    "    for col in columns:\n",
    "        scaler = StandardScaler()\n",
    "        df[col] = scaler.fit_transform(df[col].values)\n",
    "    \n",
    "    return df\n",
    "\n",
    "#data_df = scale(data_df)"
   ]
  },
  {
   "cell_type": "markdown",
   "metadata": {},
   "source": [
    "---"
   ]
  },
  {
   "cell_type": "code",
   "execution_count": null,
   "metadata": {
    "collapsed": false
   },
   "outputs": [],
   "source": [
    "#viz_df = data_df[['50dravg', '200dravg', 'High', 'Volume', 'OC%', 'HL%', 'OH%', 'label']]\n",
    "#sns.pairplot(viz_df, hue='label', vars=['50dravg', '200dravg', 'High', 'Volume', 'OC%', 'HL%', 'OH%'])\n",
    "#plt.show()"
   ]
  },
  {
   "cell_type": "markdown",
   "metadata": {},
   "source": [
    "---"
   ]
  },
  {
   "cell_type": "code",
   "execution_count": null,
   "metadata": {
    "collapsed": false
   },
   "outputs": [],
   "source": [
    "viz_df = data_df[['50dravg', '200dravg', 'Volume', 'Close','High', 'OC%', 'HL%', 'OH%', 'label']]\n",
    "sns.lmplot(x=\"OC%\", y=\"label\", data=viz_df)\n",
    "plt.show()"
   ]
  }
 ],
 "metadata": {
  "kernelspec": {
   "display_name": "Python 2",
   "language": "python",
   "name": "python2"
  },
  "language_info": {
   "codemirror_mode": {
    "name": "ipython",
    "version": 2
   },
   "file_extension": ".py",
   "mimetype": "text/x-python",
   "name": "python",
   "nbconvert_exporter": "python",
   "pygments_lexer": "ipython2",
   "version": "2.7.10"
  }
 },
 "nbformat": 4,
 "nbformat_minor": 0
}
