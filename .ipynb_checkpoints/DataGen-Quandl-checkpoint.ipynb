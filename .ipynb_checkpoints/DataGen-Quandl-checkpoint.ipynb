{
 "cells": [
  {
   "cell_type": "code",
   "execution_count": 279,
   "metadata": {
    "collapsed": false
   },
   "outputs": [
    {
     "name": "stdout",
     "output_type": "stream",
     "text": [
      "The autoreload extension is already loaded. To reload it, use:\n",
      "  %reload_ext autoreload\n"
     ]
    }
   ],
   "source": [
    "import os\n",
    "from time import time\n",
    "import numpy as np\n",
    "import pandas as pd\n",
    "from matplotlib import pyplot as plt\n",
    "import seaborn as sns\n",
    "%matplotlib inline\n",
    "\n",
    "%load_ext autoreload\n",
    "%autoreload 2\n",
    "\n",
    "from sklearn.cross_validation import train_test_split\n",
    "from sklearn.preprocessing import StandardScaler\n",
    "from sklearn.feature_selection import SelectKBest\n",
    "\n",
    "from sklearn.svm import SVR\n",
    "from sklearn.svm import SVC"
   ]
  },
  {
   "cell_type": "code",
   "execution_count": 236,
   "metadata": {
    "collapsed": false
   },
   "outputs": [
    {
     "name": "stdout",
     "output_type": "stream",
     "text": [
      "['ABIO', 'ACOR', 'ADMA', 'AERI', 'AFFX', 'AGEN', 'APPY', 'ARDM', 'ARIA', 'ARNA', 'ARWR', 'AXDX', 'AXGN', 'BABY', 'BASI', 'BCLI', 'BCRX', 'BGMD', 'BIIB', 'BLUE', 'BOTA', 'BRKR', 'CBLI', 'CBMG', 'CBMX', 'CBPO', 'CGEN', 'CLDN', 'CLDX', 'CNMD', 'COHR', 'CPHD', 'CPRX', 'CRIS', 'CUTR', 'CYBX', 'CYNO', 'CYTR', 'DARA', 'DRAD', 'DSCO', 'DYAX', 'ECTE', 'ECYT', 'ELOS', 'ENZN', 'ESMC', 'ETRM', 'EXAS', 'EXEL', 'FATE', 'FEIC', 'FLDM', 'FONR', 'GEVA', 'GILD', 'GNCA', 'HALO', 'HSKA', 'IART', 'ICCC', 'IDRA', 'IDXX', 'ILMN', 'IMMU', 'IMRS', 'INCY', 'INO', 'IRIX', 'LJPC', 'LPCN', 'LPTN', 'LUNA', 'MASI', 'MEIP', 'MNKD', 'MNTA', 'MYGN', 'NBIX', 'NEOG', 'NRCIA', 'NRCIB', 'NSTG', 'NVAX', 'NVDQ', 'NXTM', 'NYMX', 'OGXI', 'ONTY', 'OREX', 'OSIR', 'OXGN', 'PACB', 'PDLI', 'PGNX', 'PHMD', 'PRXL', 'PSDV', 'PSTI', 'QDEL', 'QGEN', 'QLTI', 'RGDX', 'RGEN', 'RMTI', 'RPRX', 'SGEN', 'SGMO', 'SGYP', 'SNMX', 'SPNC', 'SRNE', 'SSH', 'STEM', 'STXS', 'SURG', 'TECH', 'THLD', 'THOR', 'TNXP', 'TROV', 'TRVN', 'VICL', 'VIVO', 'VRML', 'WGBS', 'XLRN', 'ZLTQ']\n"
     ]
    }
   ],
   "source": [
    "quandl_tickers = [filename[:-4] for filename in os.listdir('/Users/excalibur/Dropbox/datasets/quandl_data/') if filename != '.DS_Store']\n",
    "print quandl_tickers"
   ]
  },
  {
   "cell_type": "code",
   "execution_count": 237,
   "metadata": {
    "collapsed": false
   },
   "outputs": [
    {
     "name": "stdout",
     "output_type": "stream",
     "text": [
      "['AAVL', 'ABIO', 'ACOR', 'ADMA', 'AERI', 'AFFX', 'AGEN', 'APPY', 'APTO', 'ARDM', 'ARIA', 'ARNA', 'ARWR', 'ATRA', 'AXDX', 'AXGN', 'BABY', 'BASI', 'BCLI', 'BCRX', 'BGMD', 'BIIB', 'BLFS', 'BLUE', 'BOTA', 'BRKR', 'CAPN', 'CASI', 'CBLI', 'CBMG', 'CBMX', 'CBPO', 'CDTX', 'CGEN', 'CGNT', 'CHRS', 'CLDN', 'CLDX', 'CLLS', 'CNMD', 'COHR', 'CPHD', 'CPRX', 'CRIS', 'CUTR', 'CYBX', 'CYNO', 'CYTR', 'DARA', 'DBVT', 'DRAD', 'DSCO', 'DYAX', 'ECTE', 'ECYT', 'EDAP', 'ELOS', 'ENZN', 'ESMC', 'ETRM', 'EXAS', 'EXEL', 'FATE', 'FEIC', 'FLDM', 'FONR', 'GENE', 'GILD', 'GNCA', 'HALO', 'HSKA', 'IART', 'ICCC', 'IDRA', 'IDXX', 'ILMN', 'IMMU', 'INCR', 'INCY', 'INO', 'IRIX', 'JUNO', 'KITE', 'LBIO', 'LJPC', 'LOXO', 'LPCN', 'LPTN', 'LUNA', 'MASI', 'MCUR', 'MEIP', 'MNKD', 'MNTA', 'MYGN', 'NBIX', 'NEOG', 'NRCIA', 'NRCIB', 'NSTG', 'NVAX', 'NVDQ', 'NXTM', 'NYMX', 'OGXI', 'ONCE', 'ONTY', 'OREX', 'OSIR', 'OXGN', 'PACB', 'PDLI', 'PGNX', 'PHMD', 'PRAH', 'PRSN', 'PRTO', 'PRXL', 'PSDV', 'PSTI', 'QDEL', 'QGEN', 'QLTI', 'QTNT', 'RGEN', 'RMTI', 'ROKA', 'RPRX', 'SGEN', 'SGMO', 'SGYP', 'SMLR', 'SNMX', 'SPNC', 'SRNE', 'SSH', 'STEM', 'STXS', 'SURG', 'TBIO', 'TCON', 'TECH', 'TENX', 'THLD', 'THOR', 'TNXP', 'TRIB', 'TROV', 'TRVN', 'VBIV', 'VCEL', 'VICL', 'VIVO', 'VRML', 'WGBS', 'XLRN', 'ZLTQ']\n"
     ]
    }
   ],
   "source": [
    "goog_tickers = [filename[:-4] for filename in os.listdir('/Users/excalibur/Dropbox/datasets/goog_data/') if filename != '.DS_Store']\n",
    "print goog_tickers"
   ]
  },
  {
   "cell_type": "code",
   "execution_count": 238,
   "metadata": {
    "collapsed": false
   },
   "outputs": [
    {
     "name": "stdout",
     "output_type": "stream",
     "text": [
      "['ABIO', 'ACOR', 'ADMA', 'AERI', 'AFFX', 'AGEN', 'APPY', 'ARDM', 'ARIA', 'ARNA', 'ARWR', 'AXDX', 'AXGN', 'BABY', 'BASI', 'BCLI', 'BCRX', 'BGMD', 'BIIB', 'BLUE', 'BOTA', 'BRKR', 'CBLI', 'CBMG', 'CBMX', 'CBPO', 'CGEN', 'CLDN', 'CLDX', 'CNMD', 'COHR', 'CPHD', 'CPRX', 'CRIS', 'CUTR', 'CYBX', 'CYNO', 'CYTR', 'DARA', 'DRAD', 'DSCO', 'DYAX', 'ECTE', 'ECYT', 'ELOS', 'ENZN', 'ESMC', 'ETRM', 'EXAS', 'EXEL', 'FATE', 'FEIC', 'FLDM', 'FONR', 'GILD', 'GNCA', 'HALO', 'HSKA', 'IART', 'ICCC', 'IDRA', 'IDXX', 'ILMN', 'IMMU', 'INCY', 'INO', 'IRIX', 'LJPC', 'LPCN', 'LPTN', 'LUNA', 'MASI', 'MEIP', 'MNKD', 'MNTA', 'MYGN', 'NBIX', 'NEOG', 'NRCIA', 'NRCIB', 'NSTG', 'NVAX', 'NVDQ', 'NXTM', 'NYMX', 'OGXI', 'ONTY', 'OREX', 'OSIR', 'OXGN', 'PACB', 'PDLI', 'PGNX', 'PHMD', 'PRXL', 'PSDV', 'PSTI', 'QDEL', 'QGEN', 'QLTI', 'RGEN', 'RMTI', 'RPRX', 'SGEN', 'SGMO', 'SGYP', 'SNMX', 'SPNC', 'SRNE', 'SSH', 'STEM', 'STXS', 'SURG', 'TECH', 'THLD', 'THOR', 'TNXP', 'TROV', 'TRVN', 'VICL', 'VIVO', 'VRML', 'WGBS', 'XLRN', 'ZLTQ']\n",
      "125\n"
     ]
    }
   ],
   "source": [
    "tickers = []\n",
    "for quandl_ticker in quandl_tickers:\n",
    "    if quandl_ticker in goog_tickers:\n",
    "        tickers.append(quandl_ticker)\n",
    "print tickers\n",
    "print len(tickers)"
   ]
  },
  {
   "cell_type": "code",
   "execution_count": 292,
   "metadata": {
    "collapsed": false
   },
   "outputs": [
    {
     "name": "stdout",
     "output_type": "stream",
     "text": [
      "(82501, 21)\n"
     ]
    },
    {
     "data": {
      "text/html": [
       "<div style=\"max-height:1000px;max-width:1500px;overflow:auto;\">\n",
       "<table border=\"1\" class=\"dataframe\">\n",
       "  <thead>\n",
       "    <tr style=\"text-align: right;\">\n",
       "      <th></th>\n",
       "      <th>Open</th>\n",
       "      <th>High</th>\n",
       "      <th>Low</th>\n",
       "      <th>Close</th>\n",
       "      <th>Volume</th>\n",
       "      <th>date</th>\n",
       "      <th>50dravg</th>\n",
       "      <th>200dravg</th>\n",
       "      <th>OC%</th>\n",
       "      <th>HL%</th>\n",
       "      <th>...</th>\n",
       "      <th>LastOpen</th>\n",
       "      <th>LastHigh</th>\n",
       "      <th>LastLow</th>\n",
       "      <th>LastClose</th>\n",
       "      <th>LastVolume</th>\n",
       "      <th>LastOC%</th>\n",
       "      <th>LastHL%</th>\n",
       "      <th>LastOH%</th>\n",
       "      <th>ticker</th>\n",
       "      <th>label</th>\n",
       "    </tr>\n",
       "  </thead>\n",
       "  <tbody>\n",
       "    <tr>\n",
       "      <th>3120</th>\n",
       "      <td>3.230064</td>\n",
       "      <td>3.300066</td>\n",
       "      <td>3.170063</td>\n",
       "      <td>3.280066</td>\n",
       "      <td>7200</td>\n",
       "      <td>2010-01-04</td>\n",
       "      <td>2.942259</td>\n",
       "      <td>4.438889</td>\n",
       "      <td>0.015480</td>\n",
       "      <td>0.041010</td>\n",
       "      <td>...</td>\n",
       "      <td>3.210064</td>\n",
       "      <td>3.280066</td>\n",
       "      <td>3.170063</td>\n",
       "      <td>3.260065</td>\n",
       "      <td>6200</td>\n",
       "      <td>0.015576</td>\n",
       "      <td>0.034701</td>\n",
       "      <td>0.021807</td>\n",
       "      <td>ABIO</td>\n",
       "      <td>0.000000</td>\n",
       "    </tr>\n",
       "    <tr>\n",
       "      <th>3121</th>\n",
       "      <td>3.300066</td>\n",
       "      <td>3.300066</td>\n",
       "      <td>3.170063</td>\n",
       "      <td>3.240065</td>\n",
       "      <td>5400</td>\n",
       "      <td>2010-01-05</td>\n",
       "      <td>2.945259</td>\n",
       "      <td>4.434739</td>\n",
       "      <td>-0.018182</td>\n",
       "      <td>0.041010</td>\n",
       "      <td>...</td>\n",
       "      <td>3.230064</td>\n",
       "      <td>3.300066</td>\n",
       "      <td>3.170063</td>\n",
       "      <td>3.280066</td>\n",
       "      <td>7200</td>\n",
       "      <td>0.015480</td>\n",
       "      <td>0.041010</td>\n",
       "      <td>0.021672</td>\n",
       "      <td>ABIO</td>\n",
       "      <td>0.012422</td>\n",
       "    </tr>\n",
       "    <tr>\n",
       "      <th>3122</th>\n",
       "      <td>3.220064</td>\n",
       "      <td>3.260065</td>\n",
       "      <td>3.180063</td>\n",
       "      <td>3.240065</td>\n",
       "      <td>7300</td>\n",
       "      <td>2010-01-06</td>\n",
       "      <td>2.948459</td>\n",
       "      <td>4.430689</td>\n",
       "      <td>0.006211</td>\n",
       "      <td>0.025157</td>\n",
       "      <td>...</td>\n",
       "      <td>3.300066</td>\n",
       "      <td>3.300066</td>\n",
       "      <td>3.170063</td>\n",
       "      <td>3.240065</td>\n",
       "      <td>5400</td>\n",
       "      <td>-0.018182</td>\n",
       "      <td>0.041010</td>\n",
       "      <td>0.000000</td>\n",
       "      <td>ABIO</td>\n",
       "      <td>0.034268</td>\n",
       "    </tr>\n",
       "    <tr>\n",
       "      <th>3123</th>\n",
       "      <td>3.210064</td>\n",
       "      <td>3.320066</td>\n",
       "      <td>3.190064</td>\n",
       "      <td>3.290066</td>\n",
       "      <td>7200</td>\n",
       "      <td>2010-01-07</td>\n",
       "      <td>2.953259</td>\n",
       "      <td>4.426888</td>\n",
       "      <td>0.024922</td>\n",
       "      <td>0.040752</td>\n",
       "      <td>...</td>\n",
       "      <td>3.220064</td>\n",
       "      <td>3.260065</td>\n",
       "      <td>3.180063</td>\n",
       "      <td>3.240065</td>\n",
       "      <td>7300</td>\n",
       "      <td>0.006211</td>\n",
       "      <td>0.025157</td>\n",
       "      <td>0.012422</td>\n",
       "      <td>ABIO</td>\n",
       "      <td>0.036923</td>\n",
       "    </tr>\n",
       "    <tr>\n",
       "      <th>3124</th>\n",
       "      <td>3.250065</td>\n",
       "      <td>3.370067</td>\n",
       "      <td>3.220064</td>\n",
       "      <td>3.300066</td>\n",
       "      <td>4400</td>\n",
       "      <td>2010-01-08</td>\n",
       "      <td>2.962259</td>\n",
       "      <td>4.422838</td>\n",
       "      <td>0.015385</td>\n",
       "      <td>0.046584</td>\n",
       "      <td>...</td>\n",
       "      <td>3.210064</td>\n",
       "      <td>3.320066</td>\n",
       "      <td>3.190064</td>\n",
       "      <td>3.290066</td>\n",
       "      <td>7200</td>\n",
       "      <td>0.024922</td>\n",
       "      <td>0.040752</td>\n",
       "      <td>0.034268</td>\n",
       "      <td>ABIO</td>\n",
       "      <td>0.017442</td>\n",
       "    </tr>\n",
       "  </tbody>\n",
       "</table>\n",
       "<p>5 rows × 21 columns</p>\n",
       "</div>"
      ],
      "text/plain": [
       "          Open      High       Low     Close  Volume        date   50dravg  \\\n",
       "3120  3.230064  3.300066  3.170063  3.280066    7200  2010-01-04  2.942259   \n",
       "3121  3.300066  3.300066  3.170063  3.240065    5400  2010-01-05  2.945259   \n",
       "3122  3.220064  3.260065  3.180063  3.240065    7300  2010-01-06  2.948459   \n",
       "3123  3.210064  3.320066  3.190064  3.290066    7200  2010-01-07  2.953259   \n",
       "3124  3.250065  3.370067  3.220064  3.300066    4400  2010-01-08  2.962259   \n",
       "\n",
       "      200dravg       OC%       HL%    ...     LastOpen  LastHigh   LastLow  \\\n",
       "3120  4.438889  0.015480  0.041010    ...     3.210064  3.280066  3.170063   \n",
       "3121  4.434739 -0.018182  0.041010    ...     3.230064  3.300066  3.170063   \n",
       "3122  4.430689  0.006211  0.025157    ...     3.300066  3.300066  3.170063   \n",
       "3123  4.426888  0.024922  0.040752    ...     3.220064  3.260065  3.180063   \n",
       "3124  4.422838  0.015385  0.046584    ...     3.210064  3.320066  3.190064   \n",
       "\n",
       "      LastClose  LastVolume   LastOC%   LastHL%   LastOH%  ticker     label  \n",
       "3120   3.260065        6200  0.015576  0.034701  0.021807    ABIO  0.000000  \n",
       "3121   3.280066        7200  0.015480  0.041010  0.021672    ABIO  0.012422  \n",
       "3122   3.240065        5400 -0.018182  0.041010  0.000000    ABIO  0.034268  \n",
       "3123   3.240065        7300  0.006211  0.025157  0.012422    ABIO  0.036923  \n",
       "3124   3.290066        7200  0.024922  0.040752  0.034268    ABIO  0.017442  \n",
       "\n",
       "[5 rows x 21 columns]"
      ]
     },
     "execution_count": 292,
     "metadata": {},
     "output_type": "execute_result"
    }
   ],
   "source": [
    "def convert_data_to_df(ticker):\n",
    "    df = pd.read_csv(\"/Users/excalibur/Dropbox/datasets/quandl_data/{}.csv\".format(ticker))\n",
    "    df = df.drop('Adjusted Close', axis=1)\n",
    "\n",
    "    df['50dravg'] = pd.rolling_mean(df['Close'], window=50)\n",
    "    df['200dravg'] = pd.rolling_mean(df['Close'], window=200)\n",
    "\n",
    "    df['OC%'] = (df['Close'] / df['Open']) - 1\n",
    "    df['HL%'] = (df['High'] / df['Low']) - 1\n",
    "    df['OH%'] = (df['High'] / df['Open']) - 1\n",
    "    \n",
    "    df['LastOpen'] = df['Open'].shift(1)\n",
    "    df['LastHigh'] = df['High'].shift(1)\n",
    "    df['LastLow'] = df['Low'].shift(1)\n",
    "    df['LastClose'] = df['Close'].shift(1)\n",
    "    df['LastVolume'] = df['Volume'].shift(1)\n",
    "    df['LastOC%'] = df['OC%'].shift(1)\n",
    "    df['LastHL%'] = df['HL%'].shift(1)\n",
    "    df['LastOH%'] = df['OH%'].shift(1)\n",
    "\n",
    "    df['ticker'] = ticker\n",
    "\n",
    "    df['label'] = df['OH%'].shift(-1)\n",
    "    \n",
    "    return df.copy()\n",
    "\n",
    "stock_df = pd.DataFrame()\n",
    "for ticker in tickers:\n",
    "    if stock_df.empty:\n",
    "        stock_df = convert_data_to_df(ticker)\n",
    "    else:\n",
    "        stock_df = stock_df.append(convert_data_to_df(ticker))\n",
    "\n",
    "stock_df = stock_df.replace([np.inf, -np.inf], np.nan)\n",
    "stock_df = stock_df.dropna()\n",
    "stock_df = stock_df[stock_df['date'] > '2010-01-01'] # get more recent data\n",
    "stock_df = stock_df[(stock_df['Open'] > 1.0) & (stock_df['Open'] < 9.0)] # get stocks over 1.0 and less than 9.0\n",
    "print stock_df.shape\n",
    "stock_df.to_csv('quandl.csv', index=False)\n",
    "stock_df.head()"
   ]
  },
  {
   "cell_type": "code",
   "execution_count": 240,
   "metadata": {
    "collapsed": false
   },
   "outputs": [
    {
     "data": {
      "text/plain": [
       "(12329, 21)"
      ]
     },
     "execution_count": 240,
     "metadata": {},
     "output_type": "execute_result"
    }
   ],
   "source": [
    "stock_df[stock_df['OH%'] >= 0.05].shape"
   ]
  },
  {
   "cell_type": "code",
   "execution_count": 241,
   "metadata": {
    "collapsed": false
   },
   "outputs": [
    {
     "name": "stdout",
     "output_type": "stream",
     "text": [
      "(82501, 19)\n",
      "(19,)\n",
      "[  3.23006392e+00   3.30006599e+00   3.17006302e+00   3.28006601e+00\n",
      "   7.20000000e+03   2.94225883e+00   4.43888855e+00   1.54801887e-02\n",
      "   4.10095938e-02   2.16720160e-02   3.21006393e+00   3.28006601e+00\n",
      "   3.17006302e+00   3.26006508e+00   6.20000000e+03   1.55763254e-02\n",
      "   3.47005725e-02   2.18070410e-02   0.00000000e+00]\n"
     ]
    }
   ],
   "source": [
    "X_df = stock_df.drop(['date','label'], axis=1)\n",
    "X_df['ticker'] = X_df['ticker'].astype('category').cat.codes\n",
    "X = X_df.values.astype('float32')\n",
    "print X.shape\n",
    "print X[0].shape\n",
    "print X[0]"
   ]
  },
  {
   "cell_type": "code",
   "execution_count": 242,
   "metadata": {
    "collapsed": false
   },
   "outputs": [
    {
     "name": "stdout",
     "output_type": "stream",
     "text": [
      "(82501,)\n",
      "()\n",
      "0.0\n"
     ]
    },
    {
     "data": {
      "image/png": "[encoded data removed]",
      "text/plain": [
       "<matplotlib.figure.Figure at 0x10d887c90>"
      ]
     },
     "metadata": {},
     "output_type": "display_data"
    }
   ],
   "source": [
    "Y_df = stock_df.loc[:, 'label'].map(lambda x: 1 if x >= 0.05 else 0)\n",
    "Y = Y_df.values.astype('float32')\n",
    "print Y.shape\n",
    "print Y[0].shape\n",
    "print Y[0]\n",
    "plt.hist(Y, bins=50)\n",
    "plt.show()"
   ]
  },
  {
   "cell_type": "markdown",
   "metadata": {},
   "source": [
    "---"
   ]
  },
  {
   "cell_type": "code",
   "execution_count": 249,
   "metadata": {
    "collapsed": false
   },
   "outputs": [
    {
     "data": {
      "text/plain": [
       "'\\n# hyperparameters\\nks = [x for x in xrange(1,X.shape[1])]\\nCs = [2**x for x in xrange(-15, 20, 5)]\\nepsilons = [10**-x for x in xrange(1,5)]\\ngammas = [2**x for x in xrange(-15, 20, 5)]\\n\\n# RANDOM SEARCH\\nfor i in xrange(20):\\n    k = np.random.choice(ks)\\n    skb = SelectKBest(k=k)\\n    skb = skb.fit(X_train,y_train.ravel())\\n    skb_X_train = skb.transform(X_train)\\n    \\n    C = np.random.choice(Cs)\\n    epsilon = np.random.choice(epsilons)\\n    gamma = np.random.choice(gammas)\\n    \\n    #clf = SVR(C=C, cache_size=200, coef0=0.0, degree=3, epsilon=epsilon, gamma=gamma, kernel=\\'rbf\\', max_iter=-1, shrinking=True, tol=0.001, verbose=False)\\n    clf = SVC(C=C, cache_size=200, class_weight=\\'auto\\', coef0=0.0, degree=3, gamma=gamma, kernel=\\'rbf\\', max_iter=-1, probability=False, random_state=42, shrinking=True, tol=0.001, verbose=False)\\n    clf.fit(skb_X_train,y_train.ravel())\\n    \\n    skb_X_validation = skb.transform(X_validation)\\n    print \"k =\", k, \"C =\", C, \"epsilon =\", epsilon, \"gamma =\", gamma, \"score:\", clf.score(skb_X_validation,y_validation.ravel())\\n#'"
      ]
     },
     "execution_count": 249,
     "metadata": {},
     "output_type": "execute_result"
    }
   ],
   "source": [
    "'''\n",
    "# hyperparameters\n",
    "ks = [x for x in xrange(1,X.shape[1])]\n",
    "Cs = [2**x for x in xrange(-15, 20, 5)]\n",
    "epsilons = [10**-x for x in xrange(1,5)]\n",
    "gammas = [2**x for x in xrange(-15, 20, 5)]\n",
    "\n",
    "# RANDOM SEARCH\n",
    "for i in xrange(20):\n",
    "    k = np.random.choice(ks)\n",
    "    skb = SelectKBest(k=k)\n",
    "    skb = skb.fit(X_train,y_train.ravel())\n",
    "    skb_X_train = skb.transform(X_train)\n",
    "    \n",
    "    C = np.random.choice(Cs)\n",
    "    epsilon = np.random.choice(epsilons)\n",
    "    gamma = np.random.choice(gammas)\n",
    "    \n",
    "    #clf = SVR(C=C, cache_size=200, coef0=0.0, degree=3, epsilon=epsilon, gamma=gamma, kernel='rbf', max_iter=-1, shrinking=True, tol=0.001, verbose=False)\n",
    "    clf = SVC(C=C, cache_size=200, class_weight='auto', coef0=0.0, degree=3, gamma=gamma, kernel='rbf', max_iter=-1, probability=False, random_state=42, shrinking=True, tol=0.001, verbose=False)\n",
    "    clf.fit(skb_X_train,y_train.ravel())\n",
    "    \n",
    "    skb_X_validation = skb.transform(X_validation)\n",
    "    print \"k =\", k, \"C =\", C, \"epsilon =\", epsilon, \"gamma =\", gamma, \"score:\", clf.score(skb_X_validation,y_validation.ravel())\n",
    "#'''"
   ]
  },
  {
   "cell_type": "code",
   "execution_count": 289,
   "metadata": {
    "collapsed": false
   },
   "outputs": [
    {
     "data": {
      "text/plain": [
       "'\\nfrom nn import *\\n# RANDOM SEARCH\\nfor i in xrange(20):\\n    NN(X_df.columns,X,Y)\\n'"
      ]
     },
     "execution_count": 289,
     "metadata": {},
     "output_type": "execute_result"
    }
   ],
   "source": [
    "'''\n",
    "from nn import *\n",
    "# RANDOM SEARCH\n",
    "for i in xrange(20):\n",
    "    NN(X_df.columns,X,Y)\n",
    "'''"
   ]
  }
 ],
 "metadata": {
  "kernelspec": {
   "display_name": "Python 2",
   "language": "python",
   "name": "python2"
  },
  "language_info": {
   "codemirror_mode": {
    "name": "ipython",
    "version": 2
   },
   "file_extension": ".py",
   "mimetype": "text/x-python",
   "name": "python",
   "nbconvert_exporter": "python",
   "pygments_lexer": "ipython2",
   "version": "2.7.10"
  }
 },
 "nbformat": 4,
 "nbformat_minor": 0
}
