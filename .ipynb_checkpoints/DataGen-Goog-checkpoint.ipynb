{
 "cells": [
  {
   "cell_type": "code",
   "execution_count": 78,
   "metadata": {
    "collapsed": false
   },
   "outputs": [
    {
     "name": "stdout",
     "output_type": "stream",
     "text": [
      "The autoreload extension is already loaded. To reload it, use:\n",
      "  %reload_ext autoreload\n"
     ]
    }
   ],
   "source": [
    "import os\n",
    "from time import time\n",
    "import numpy as np\n",
    "import pandas as pd\n",
    "from matplotlib import pyplot as plt\n",
    "import seaborn as sns\n",
    "%matplotlib inline\n",
    "\n",
    "%load_ext autoreload\n",
    "%autoreload 2\n",
    "\n",
    "from sklearn.cross_validation import train_test_split\n",
    "from sklearn.preprocessing import StandardScaler\n",
    "from sklearn.feature_selection import SelectKBest\n",
    "\n",
    "from sklearn.svm import SVR\n",
    "from sklearn.svm import SVC\n",
    "\n",
    "from sklearn.metrics import classification_report"
   ]
  },
  {
   "cell_type": "code",
   "execution_count": 2,
   "metadata": {
    "collapsed": false
   },
   "outputs": [
    {
     "name": "stdout",
     "output_type": "stream",
     "text": [
      "['ABIO', 'ACOR', 'ADMA', 'AERI', 'AFFX', 'AGEN', 'APPY', 'ARDM', 'ARIA', 'ARNA', 'ARWR', 'AXDX', 'AXGN', 'BABY', 'BASI', 'BCLI', 'BCRX', 'BGMD', 'BIIB', 'BLUE', 'BOTA', 'BRKR', 'CBLI', 'CBMG', 'CBMX', 'CBPO', 'CGEN', 'CLDN', 'CLDX', 'CNMD', 'COHR', 'CPHD', 'CPRX', 'CRIS', 'CUTR', 'CYBX', 'CYNO', 'CYTR', 'DARA', 'DRAD', 'DSCO', 'DYAX', 'ECTE', 'ECYT', 'ELOS', 'ENZN', 'ESMC', 'ETRM', 'EXAS', 'EXEL', 'FATE', 'FEIC', 'FLDM', 'FONR', 'GEVA', 'GILD', 'GNCA', 'HALO', 'HSKA', 'IART', 'ICCC', 'IDRA', 'IDXX', 'ILMN', 'IMMU', 'IMRS', 'INCY', 'INO', 'IRIX', 'LJPC', 'LPCN', 'LPTN', 'LUNA', 'MASI', 'MEIP', 'MNKD', 'MNTA', 'MYGN', 'NBIX', 'NEOG', 'NRCIA', 'NRCIB', 'NSTG', 'NVAX', 'NVDQ', 'NXTM', 'NYMX', 'OGXI', 'ONTY', 'OREX', 'OSIR', 'OXGN', 'PACB', 'PDLI', 'PGNX', 'PHMD', 'PRXL', 'PSDV', 'PSTI', 'QDEL', 'QGEN', 'QLTI', 'RGDX', 'RGEN', 'RMTI', 'RPRX', 'SGEN', 'SGMO', 'SGYP', 'SNMX', 'SPNC', 'SRNE', 'SSH', 'STEM', 'STXS', 'SURG', 'TECH', 'THLD', 'THOR', 'TNXP', 'TROV', 'TRVN', 'VICL', 'VIVO', 'VRML', 'WGBS', 'XLRN', 'ZLTQ']\n"
     ]
    }
   ],
   "source": [
    "quandl_tickers = [filename[:-4] for filename in os.listdir('/Users/excalibur/Dropbox/datasets/quandl_data/') if filename != '.DS_Store']\n",
    "print quandl_tickers"
   ]
  },
  {
   "cell_type": "code",
   "execution_count": 3,
   "metadata": {
    "collapsed": false
   },
   "outputs": [
    {
     "name": "stdout",
     "output_type": "stream",
     "text": [
      "['AAVL', 'ABIO', 'ACOR', 'ADMA', 'AERI', 'AFFX', 'AGEN', 'APPY', 'APTO', 'ARDM', 'ARIA', 'ARNA', 'ARWR', 'ATRA', 'AXDX', 'AXGN', 'BABY', 'BASI', 'BCLI', 'BCRX', 'BGMD', 'BIIB', 'BLFS', 'BLUE', 'BOTA', 'BRKR', 'CAPN', 'CASI', 'CBLI', 'CBMG', 'CBMX', 'CBPO', 'CDTX', 'CGEN', 'CGNT', 'CHRS', 'CLDN', 'CLDX', 'CLLS', 'CNMD', 'COHR', 'CPHD', 'CPRX', 'CRIS', 'CUTR', 'CYBX', 'CYNO', 'CYTR', 'DARA', 'DBVT', 'DRAD', 'DSCO', 'DYAX', 'ECTE', 'ECYT', 'EDAP', 'ELOS', 'ENZN', 'ESMC', 'ETRM', 'EXAS', 'EXEL', 'FATE', 'FEIC', 'FLDM', 'FONR', 'GENE', 'GILD', 'GNCA', 'HALO', 'HSKA', 'IART', 'ICCC', 'IDRA', 'IDXX', 'ILMN', 'IMMU', 'INCR', 'INCY', 'INO', 'IRIX', 'JUNO', 'KITE', 'LBIO', 'LJPC', 'LOXO', 'LPCN', 'LPTN', 'LUNA', 'MASI', 'MCUR', 'MEIP', 'MNKD', 'MNTA', 'MYGN', 'NBIX', 'NEOG', 'NRCIA', 'NRCIB', 'NSTG', 'NVAX', 'NVDQ', 'NXTM', 'NYMX', 'OGXI', 'ONCE', 'ONTY', 'OREX', 'OSIR', 'OXGN', 'PACB', 'PDLI', 'PGNX', 'PHMD', 'PRAH', 'PRSN', 'PRTO', 'PRXL', 'PSDV', 'PSTI', 'QDEL', 'QGEN', 'QLTI', 'QTNT', 'RGEN', 'RMTI', 'ROKA', 'RPRX', 'SGEN', 'SGMO', 'SGYP', 'SMLR', 'SNMX', 'SPNC', 'SRNE', 'SSH', 'STEM', 'STXS', 'SURG', 'TBIO', 'TCON', 'TECH', 'TENX', 'THLD', 'THOR', 'TNXP', 'TRIB', 'TROV', 'TRVN', 'VBIV', 'VCEL', 'VICL', 'VIVO', 'VRML', 'WGBS', 'XLRN', 'ZLTQ']\n"
     ]
    }
   ],
   "source": [
    "goog_tickers = [filename[:-4] for filename in os.listdir('/Users/excalibur/Dropbox/datasets/goog_data/') if filename != '.DS_Store']\n",
    "print goog_tickers"
   ]
  },
  {
   "cell_type": "code",
   "execution_count": 4,
   "metadata": {
    "collapsed": false
   },
   "outputs": [
    {
     "name": "stdout",
     "output_type": "stream",
     "text": [
      "['ABIO', 'ACOR', 'ADMA', 'AERI', 'AFFX', 'AGEN', 'APPY', 'ARDM', 'ARIA', 'ARNA', 'ARWR', 'AXDX', 'AXGN', 'BABY', 'BASI', 'BCLI', 'BCRX', 'BGMD', 'BIIB', 'BLUE', 'BOTA', 'BRKR', 'CBLI', 'CBMG', 'CBMX', 'CBPO', 'CGEN', 'CLDN', 'CLDX', 'CNMD', 'COHR', 'CPHD', 'CPRX', 'CRIS', 'CUTR', 'CYBX', 'CYNO', 'CYTR', 'DARA', 'DRAD', 'DSCO', 'DYAX', 'ECTE', 'ECYT', 'ELOS', 'ENZN', 'ESMC', 'ETRM', 'EXAS', 'EXEL', 'FATE', 'FEIC', 'FLDM', 'FONR', 'GILD', 'GNCA', 'HALO', 'HSKA', 'IART', 'ICCC', 'IDRA', 'IDXX', 'ILMN', 'IMMU', 'INCY', 'INO', 'IRIX', 'LJPC', 'LPCN', 'LPTN', 'LUNA', 'MASI', 'MEIP', 'MNKD', 'MNTA', 'MYGN', 'NBIX', 'NEOG', 'NRCIA', 'NRCIB', 'NSTG', 'NVAX', 'NVDQ', 'NXTM', 'NYMX', 'OGXI', 'ONTY', 'OREX', 'OSIR', 'OXGN', 'PACB', 'PDLI', 'PGNX', 'PHMD', 'PRXL', 'PSDV', 'PSTI', 'QDEL', 'QGEN', 'QLTI', 'RGEN', 'RMTI', 'RPRX', 'SGEN', 'SGMO', 'SGYP', 'SNMX', 'SPNC', 'SRNE', 'SSH', 'STEM', 'STXS', 'SURG', 'TECH', 'THLD', 'THOR', 'TNXP', 'TROV', 'TRVN', 'VICL', 'VIVO', 'VRML', 'WGBS', 'XLRN', 'ZLTQ']\n",
      "125\n"
     ]
    }
   ],
   "source": [
    "tickers = []\n",
    "for quandl_ticker in quandl_tickers:\n",
    "    if quandl_ticker in goog_tickers:\n",
    "        tickers.append(quandl_ticker)\n",
    "print tickers\n",
    "print len(tickers)"
   ]
  },
  {
   "cell_type": "code",
   "execution_count": 17,
   "metadata": {
    "collapsed": false
   },
   "outputs": [
    {
     "data": {
      "text/html": [
       "<div style=\"max-height:1000px;max-width:1500px;overflow:auto;\">\n",
       "<table border=\"1\" class=\"dataframe\">\n",
       "  <thead>\n",
       "    <tr style=\"text-align: right;\">\n",
       "      <th></th>\n",
       "      <th>time</th>\n",
       "      <th>CLOSE</th>\n",
       "      <th>HIGH</th>\n",
       "      <th>LOW</th>\n",
       "      <th>OPEN</th>\n",
       "      <th>VOLUME</th>\n",
       "      <th>date</th>\n",
       "      <th>week_day</th>\n",
       "      <th>op_cl%</th>\n",
       "      <th>lo_hi%</th>\n",
       "    </tr>\n",
       "  </thead>\n",
       "  <tbody>\n",
       "    <tr>\n",
       "      <th>0</th>\n",
       "      <td>9.3</td>\n",
       "      <td>0.91</td>\n",
       "      <td>0.91</td>\n",
       "      <td>0.91</td>\n",
       "      <td>0.91</td>\n",
       "      <td>5591</td>\n",
       "      <td>2015-06-22</td>\n",
       "      <td>0</td>\n",
       "      <td>0</td>\n",
       "      <td>0</td>\n",
       "    </tr>\n",
       "  </tbody>\n",
       "</table>\n",
       "</div>"
      ],
      "text/plain": [
       "   time  CLOSE  HIGH   LOW  OPEN  VOLUME        date  week_day  op_cl%  lo_hi%\n",
       "0   9.3   0.91  0.91  0.91  0.91    5591  2015-06-22         0       0       0"
      ]
     },
     "execution_count": 17,
     "metadata": {},
     "output_type": "execute_result"
    }
   ],
   "source": [
    "pd.read_csv(\"/Users/excalibur/Dropbox/datasets/goog_data/ABIO.csv\").head(1)"
   ]
  },
  {
   "cell_type": "code",
   "execution_count": 77,
   "metadata": {
    "collapsed": false
   },
   "outputs": [
    {
     "name": "stdout",
     "output_type": "stream",
     "text": [
      "(2289, 22)\n"
     ]
    },
    {
     "data": {
      "text/html": [
       "<div style=\"max-height:1000px;max-width:1500px;overflow:auto;\">\n",
       "<table border=\"1\" class=\"dataframe\">\n",
       "  <thead>\n",
       "    <tr style=\"text-align: right;\">\n",
       "      <th></th>\n",
       "      <th>CLOSE_x</th>\n",
       "      <th>CLOSE_y</th>\n",
       "      <th>HIGH_x</th>\n",
       "      <th>HIGH_y</th>\n",
       "      <th>LOW_x</th>\n",
       "      <th>LOW_y</th>\n",
       "      <th>OPEN_x</th>\n",
       "      <th>OPEN_y</th>\n",
       "      <th>VOLUME_x</th>\n",
       "      <th>VOLUME_y</th>\n",
       "      <th>...</th>\n",
       "      <th>lo_hi%_y</th>\n",
       "      <th>op_cl%_x</th>\n",
       "      <th>op_cl%_y</th>\n",
       "      <th>ticker</th>\n",
       "      <th>time_x</th>\n",
       "      <th>time_y</th>\n",
       "      <th>volume_change</th>\n",
       "      <th>volume_change_perc</th>\n",
       "      <th>week_day_x</th>\n",
       "      <th>week_day_y</th>\n",
       "    </tr>\n",
       "  </thead>\n",
       "  <tbody>\n",
       "    <tr>\n",
       "      <th>0</th>\n",
       "      <td>1.05</td>\n",
       "      <td>1.0189</td>\n",
       "      <td>1.05</td>\n",
       "      <td>1.0599</td>\n",
       "      <td>1.05</td>\n",
       "      <td>0.9601</td>\n",
       "      <td>1.05</td>\n",
       "      <td>1.0510</td>\n",
       "      <td>7359</td>\n",
       "      <td>103844</td>\n",
       "      <td>...</td>\n",
       "      <td>0.103948</td>\n",
       "      <td>0</td>\n",
       "      <td>-0.030542</td>\n",
       "      <td>ABIO</td>\n",
       "      <td>9.3</td>\n",
       "      <td>10</td>\n",
       "      <td>96485</td>\n",
       "      <td>13.111156</td>\n",
       "      <td>0</td>\n",
       "      <td>0</td>\n",
       "    </tr>\n",
       "    <tr>\n",
       "      <th>1</th>\n",
       "      <td>1.01</td>\n",
       "      <td>1.0300</td>\n",
       "      <td>1.01</td>\n",
       "      <td>1.0500</td>\n",
       "      <td>1.01</td>\n",
       "      <td>1.0100</td>\n",
       "      <td>1.01</td>\n",
       "      <td>1.0500</td>\n",
       "      <td>2297</td>\n",
       "      <td>45898</td>\n",
       "      <td>...</td>\n",
       "      <td>0.039604</td>\n",
       "      <td>0</td>\n",
       "      <td>-0.019048</td>\n",
       "      <td>ABIO</td>\n",
       "      <td>9.3</td>\n",
       "      <td>10</td>\n",
       "      <td>43601</td>\n",
       "      <td>18.981715</td>\n",
       "      <td>1</td>\n",
       "      <td>1</td>\n",
       "    </tr>\n",
       "    <tr>\n",
       "      <th>2</th>\n",
       "      <td>1.09</td>\n",
       "      <td>1.0750</td>\n",
       "      <td>1.09</td>\n",
       "      <td>1.0999</td>\n",
       "      <td>1.09</td>\n",
       "      <td>1.0601</td>\n",
       "      <td>1.09</td>\n",
       "      <td>1.0999</td>\n",
       "      <td>108</td>\n",
       "      <td>20838</td>\n",
       "      <td>...</td>\n",
       "      <td>0.037544</td>\n",
       "      <td>0</td>\n",
       "      <td>-0.022638</td>\n",
       "      <td>ABIO</td>\n",
       "      <td>9.3</td>\n",
       "      <td>10</td>\n",
       "      <td>20730</td>\n",
       "      <td>191.944444</td>\n",
       "      <td>3</td>\n",
       "      <td>3</td>\n",
       "    </tr>\n",
       "    <tr>\n",
       "      <th>3</th>\n",
       "      <td>1.07</td>\n",
       "      <td>1.0608</td>\n",
       "      <td>1.07</td>\n",
       "      <td>1.1400</td>\n",
       "      <td>1.07</td>\n",
       "      <td>1.0600</td>\n",
       "      <td>1.07</td>\n",
       "      <td>1.0700</td>\n",
       "      <td>4446</td>\n",
       "      <td>37944</td>\n",
       "      <td>...</td>\n",
       "      <td>0.075472</td>\n",
       "      <td>0</td>\n",
       "      <td>-0.008598</td>\n",
       "      <td>ABIO</td>\n",
       "      <td>9.3</td>\n",
       "      <td>10</td>\n",
       "      <td>33498</td>\n",
       "      <td>7.534413</td>\n",
       "      <td>0</td>\n",
       "      <td>0</td>\n",
       "    </tr>\n",
       "    <tr>\n",
       "      <th>4</th>\n",
       "      <td>1.11</td>\n",
       "      <td>1.1000</td>\n",
       "      <td>1.11</td>\n",
       "      <td>1.1298</td>\n",
       "      <td>1.11</td>\n",
       "      <td>1.0800</td>\n",
       "      <td>1.11</td>\n",
       "      <td>1.1298</td>\n",
       "      <td>620</td>\n",
       "      <td>52080</td>\n",
       "      <td>...</td>\n",
       "      <td>0.046111</td>\n",
       "      <td>0</td>\n",
       "      <td>-0.026376</td>\n",
       "      <td>ABIO</td>\n",
       "      <td>9.3</td>\n",
       "      <td>10</td>\n",
       "      <td>51460</td>\n",
       "      <td>83.000000</td>\n",
       "      <td>1</td>\n",
       "      <td>1</td>\n",
       "    </tr>\n",
       "  </tbody>\n",
       "</table>\n",
       "<p>5 rows × 22 columns</p>\n",
       "</div>"
      ],
      "text/plain": [
       "   CLOSE_x  CLOSE_y  HIGH_x  HIGH_y  LOW_x   LOW_y  OPEN_x  OPEN_y  VOLUME_x  \\\n",
       "0     1.05   1.0189    1.05  1.0599   1.05  0.9601    1.05  1.0510      7359   \n",
       "1     1.01   1.0300    1.01  1.0500   1.01  1.0100    1.01  1.0500      2297   \n",
       "2     1.09   1.0750    1.09  1.0999   1.09  1.0601    1.09  1.0999       108   \n",
       "3     1.07   1.0608    1.07  1.1400   1.07  1.0600    1.07  1.0700      4446   \n",
       "4     1.11   1.1000    1.11  1.1298   1.11  1.0800    1.11  1.1298       620   \n",
       "\n",
       "   VOLUME_y     ...      lo_hi%_y  op_cl%_x  op_cl%_y  ticker  time_x time_y  \\\n",
       "0    103844     ...      0.103948         0 -0.030542    ABIO     9.3     10   \n",
       "1     45898     ...      0.039604         0 -0.019048    ABIO     9.3     10   \n",
       "2     20838     ...      0.037544         0 -0.022638    ABIO     9.3     10   \n",
       "3     37944     ...      0.075472         0 -0.008598    ABIO     9.3     10   \n",
       "4     52080     ...      0.046111         0 -0.026376    ABIO     9.3     10   \n",
       "\n",
       "   volume_change  volume_change_perc  week_day_x  week_day_y  \n",
       "0          96485           13.111156           0           0  \n",
       "1          43601           18.981715           1           1  \n",
       "2          20730          191.944444           3           3  \n",
       "3          33498            7.534413           0           0  \n",
       "4          51460           83.000000           1           1  \n",
       "\n",
       "[5 rows x 22 columns]"
      ]
     },
     "execution_count": 77,
     "metadata": {},
     "output_type": "execute_result"
    }
   ],
   "source": [
    "def convert_data_to_df(ticker):\n",
    "    df = pd.read_csv(\"/Users/excalibur/Dropbox/datasets/goog_data/{}.csv\".format(ticker))\n",
    "\n",
    "    df = df[(df['time'] == 9.30) | (df['time'] == 10.0)]\n",
    "    \n",
    "    df = df.replace([np.inf, -np.inf], np.nan)\n",
    "    df = df.dropna()\n",
    "    df = df[df['date'] > '2010-01-01'] # get more recent data\n",
    "    df = df[(df['OPEN'] > 1.0) & (df['OPEN'] < 9.0)] # get stocks over 1.0 and less than 9.0\n",
    "\n",
    "    df_930 = df[df['time'] == 9.30]\n",
    "    df_100 = df[df['time'] == 10.0]\n",
    "    \n",
    "    df = df_930.merge(df_100, how='inner', on='date')\n",
    "    \n",
    "    df['volume_change'] = df['VOLUME_y'] - df['VOLUME_x']\n",
    "    \n",
    "    df['volume_change_perc'] = (df['VOLUME_y'] / df['VOLUME_x']) - 1\n",
    "    \n",
    "    df['ticker'] = ticker\n",
    "    \n",
    "    return df.copy()\n",
    "\n",
    "stock_df = pd.DataFrame()\n",
    "for ticker in tickers:\n",
    "    if stock_df.empty:\n",
    "        stock_df = convert_data_to_df(ticker)\n",
    "    else:\n",
    "        stock_df = stock_df.append(convert_data_to_df(ticker))\n",
    "\n",
    "\n",
    "print stock_df.shape\n",
    "stock_df.to_csv('goog.csv', index=False)\n",
    "stock_df.head()"
   ]
  },
  {
   "cell_type": "code",
   "execution_count": 240,
   "metadata": {
    "collapsed": false
   },
   "outputs": [
    {
     "data": {
      "text/plain": [
       "(12329, 21)"
      ]
     },
     "execution_count": 240,
     "metadata": {},
     "output_type": "execute_result"
    }
   ],
   "source": [
    "stock_df[stock_df['OH%'] >= 0.05].shape"
   ]
  },
  {
   "cell_type": "code",
   "execution_count": 241,
   "metadata": {
    "collapsed": false
   },
   "outputs": [
    {
     "name": "stdout",
     "output_type": "stream",
     "text": [
      "(82501, 19)\n",
      "(19,)\n",
      "[  3.23006392e+00   3.30006599e+00   3.17006302e+00   3.28006601e+00\n",
      "   7.20000000e+03   2.94225883e+00   4.43888855e+00   1.54801887e-02\n",
      "   4.10095938e-02   2.16720160e-02   3.21006393e+00   3.28006601e+00\n",
      "   3.17006302e+00   3.26006508e+00   6.20000000e+03   1.55763254e-02\n",
      "   3.47005725e-02   2.18070410e-02   0.00000000e+00]\n"
     ]
    }
   ],
   "source": [
    "X_df = stock_df.drop(['date','label'], axis=1)\n",
    "X_df['ticker'] = X_df['ticker'].astype('category').cat.codes\n",
    "X = X_df.values.astype('float32')\n",
    "print X.shape\n",
    "print X[0].shape\n",
    "print X[0]"
   ]
  },
  {
   "cell_type": "code",
   "execution_count": 242,
   "metadata": {
    "collapsed": false
   },
   "outputs": [
    {
     "name": "stdout",
     "output_type": "stream",
     "text": [
      "(82501,)\n",
      "()\n",
      "0.0\n"
     ]
    },
    {
     "data": {
      "image/png": "[encoded data removed]",
      "text/plain": [
       "<matplotlib.figure.Figure at 0x10d887c90>"
      ]
     },
     "metadata": {},
     "output_type": "display_data"
    }
   ],
   "source": [
    "Y_df = stock_df.loc[:, 'label'].map(lambda x: 1 if x >= 0.05 else 0)\n",
    "Y = Y_df.values.astype('float32')\n",
    "print Y.shape\n",
    "print Y[0].shape\n",
    "print Y[0]\n",
    "plt.hist(Y, bins=50)\n",
    "plt.show()"
   ]
  },
  {
   "cell_type": "markdown",
   "metadata": {},
   "source": [
    "---"
   ]
  },
  {
   "cell_type": "code",
   "execution_count": 249,
   "metadata": {
    "collapsed": false
   },
   "outputs": [
    {
     "data": {
      "text/plain": [
       "'\\n# hyperparameters\\nks = [x for x in xrange(1,X.shape[1])]\\nCs = [2**x for x in xrange(-15, 20, 5)]\\nepsilons = [10**-x for x in xrange(1,5)]\\ngammas = [2**x for x in xrange(-15, 20, 5)]\\n\\n# RANDOM SEARCH\\nfor i in xrange(20):\\n    k = np.random.choice(ks)\\n    skb = SelectKBest(k=k)\\n    skb = skb.fit(X_train,y_train.ravel())\\n    skb_X_train = skb.transform(X_train)\\n    \\n    C = np.random.choice(Cs)\\n    epsilon = np.random.choice(epsilons)\\n    gamma = np.random.choice(gammas)\\n    \\n    #clf = SVR(C=C, cache_size=200, coef0=0.0, degree=3, epsilon=epsilon, gamma=gamma, kernel=\\'rbf\\', max_iter=-1, shrinking=True, tol=0.001, verbose=False)\\n    clf = SVC(C=C, cache_size=200, class_weight=\\'auto\\', coef0=0.0, degree=3, gamma=gamma, kernel=\\'rbf\\', max_iter=-1, probability=False, random_state=42, shrinking=True, tol=0.001, verbose=False)\\n    clf.fit(skb_X_train,y_train.ravel())\\n    \\n    skb_X_validation = skb.transform(X_validation)\\n    print \"k =\", k, \"C =\", C, \"epsilon =\", epsilon, \"gamma =\", gamma, \"score:\", clf.score(skb_X_validation,y_validation.ravel())\\n#'"
      ]
     },
     "execution_count": 249,
     "metadata": {},
     "output_type": "execute_result"
    }
   ],
   "source": [
    "'''\n",
    "# hyperparameters\n",
    "ks = [x for x in xrange(1,X.shape[1])]\n",
    "Cs = [2**x for x in xrange(-15, 20, 5)]\n",
    "epsilons = [10**-x for x in xrange(1,5)]\n",
    "gammas = [2**x for x in xrange(-15, 20, 5)]\n",
    "\n",
    "# RANDOM SEARCH\n",
    "for i in xrange(20):\n",
    "    k = np.random.choice(ks)\n",
    "    skb = SelectKBest(k=k)\n",
    "    skb = skb.fit(X_train,y_train.ravel())\n",
    "    skb_X_train = skb.transform(X_train)\n",
    "    \n",
    "    C = np.random.choice(Cs)\n",
    "    epsilon = np.random.choice(epsilons)\n",
    "    gamma = np.random.choice(gammas)\n",
    "    \n",
    "    #clf = SVR(C=C, cache_size=200, coef0=0.0, degree=3, epsilon=epsilon, gamma=gamma, kernel='rbf', max_iter=-1, shrinking=True, tol=0.001, verbose=False)\n",
    "    clf = SVC(C=C, cache_size=200, class_weight='auto', coef0=0.0, degree=3, gamma=gamma, kernel='rbf', max_iter=-1, probability=False, random_state=42, shrinking=True, tol=0.001, verbose=False)\n",
    "    clf.fit(skb_X_train,y_train.ravel())\n",
    "    \n",
    "    skb_X_validation = skb.transform(X_validation)\n",
    "    print \"k =\", k, \"C =\", C, \"epsilon =\", epsilon, \"gamma =\", gamma, \"score:\", clf.score(skb_X_validation,y_validation.ravel())\n",
    "#'''"
   ]
  },
  {
   "cell_type": "code",
   "execution_count": 287,
   "metadata": {
    "collapsed": false
   },
   "outputs": [
    {
     "name": "stdout",
     "output_type": "stream",
     "text": [
      "Open 400.184\n",
      "High 329.341\n",
      "Low 451.872\n",
      "Close 385.253\n",
      "50dravg 340.717\n",
      "HL% 927.017\n",
      "OH% 425.874\n",
      "LastOpen 392.691\n",
      "LastHigh 347.519\n",
      "LastLow 445.063\n",
      "LastClose 401.314\n",
      "LastHL% 469.227\n",
      "----------\n",
      "features 12\n",
      "outputs 2\n",
      "h1 1129\n",
      "h2 448\n",
      "W1 (1129, 12)\n",
      "b1 (1129, 1)\n",
      "W2 (448, 1129)\n",
      "b2 (448, 1)\n",
      "W3 (2, 448)\n",
      "b3 (2, 1)\n",
      "----------\n",
      "h1: 1129 h2: 448 epochs: 50 Lambda: 0.001 Reg: L1 alpha: 0.001\n",
      "last mean validation loss: 0.69\n",
      "last mean training loss: 0.72\n"
     ]
    },
    {
     "data": {
      "image/png": "[encoded data removed]",
      "text/plain": [
       "<matplotlib.figure.Figure at 0x10e07c510>"
      ]
     },
     "metadata": {},
     "output_type": "display_data"
    },
    {
     "name": "stdout",
     "output_type": "stream",
     "text": [
      "h1: 1129 h2: 448 epochs: 50 Lambda: 0.001 Reg: L1 alpha: 1.12466280598e-31\n",
      "last mean validation loss: 0.69\n",
      "last mean training loss: 0.71\n"
     ]
    },
    {
     "data": {
      "image/png": "[encoded data removed]",
      "text/plain": [
       "<matplotlib.figure.Figure at 0x1109e7fd0>"
      ]
     },
     "metadata": {},
     "output_type": "display_data"
    },
    {
     "name": "stdout",
     "output_type": "stream",
     "text": [
      "Open 400.184\n",
      "High 329.341\n",
      "Low 451.872\n",
      "Close 385.253\n",
      "Volume 45.4266\n",
      "50dravg 340.717\n",
      "200dravg 253.144\n",
      "HL% 927.017\n",
      "OH% 425.874\n",
      "LastOpen 392.691\n",
      "LastHigh 347.519\n",
      "LastLow 445.063\n",
      "LastClose 401.314\n",
      "LastHL% 469.227\n",
      "LastOH% 167.658\n",
      "----------\n",
      "features 15\n",
      "outputs 2\n",
      "h1 1466\n",
      "h2 180\n",
      "W1 (1466, 15)\n",
      "b1 (1466, 1)\n",
      "W2 (180, 1466)\n",
      "b2 (180, 1)\n",
      "W3 (2, 180)\n",
      "b3 (2, 1)\n",
      "----------\n",
      "h1: 1466 h2: 180 epochs: 50 Lambda: 0.1 Reg: L1 alpha: 0.0001\n",
      "last mean validation loss: 0.69\n",
      "last mean training loss: 0.69\n"
     ]
    },
    {
     "data": {
      "image/png": "[encoded data removed]",
      "text/plain": [
       "<matplotlib.figure.Figure at 0x10dae5e50>"
      ]
     },
     "metadata": {},
     "output_type": "display_data"
    },
    {
     "name": "stdout",
     "output_type": "stream",
     "text": [
      "h1: 1466 h2: 180 epochs: 50 Lambda: 0.1 Reg: L1 alpha: 1.44692874144e-31\n",
      "last mean validation loss: 0.69\n",
      "last mean training loss: 0.69\n"
     ]
    },
    {
     "data": {
      "image/png": "[encoded data removed]",
      "text/plain": [
       "<matplotlib.figure.Figure at 0x1104b1a90>"
      ]
     },
     "metadata": {},
     "output_type": "display_data"
    },
    {
     "name": "stdout",
     "output_type": "stream",
     "text": [
      "HL% 927.017\n",
      "LastHL% 469.227\n",
      "----------\n",
      "features 2\n",
      "outputs 2\n",
      "h1 55\n",
      "h2 198\n",
      "W1 (55, 2)\n",
      "b1 (55, 1)\n",
      "W2 (198, 55)\n",
      "b2 (198, 1)\n",
      "W3 (2, 198)\n",
      "b3 (2, 1)\n",
      "----------\n",
      "h1: 55 h2: 198 epochs: 50 Lambda: 0.1 Reg: L1 alpha: 0.1\n",
      "last mean validation loss: 0.69\n",
      "last mean training loss: 0.77\n"
     ]
    },
    {
     "data": {
      "image/png": "[encoded data removed]",
      "text/plain": [
       "<matplotlib.figure.Figure at 0x106c2b1d0>"
      ]
     },
     "metadata": {},
     "output_type": "display_data"
    },
    {
     "name": "stdout",
     "output_type": "stream",
     "text": [
      "h1: 55 h2: 198 epochs: 50 Lambda: 0.1 Reg: L1 alpha: 1.16786727749e-30\n",
      "last mean validation loss: 0.69\n",
      "last mean training loss: 0.73\n"
     ]
    },
    {
     "data": {
      "image/png": "[encoded data removed]",
      "text/plain": [
       "<matplotlib.figure.Figure at 0x10fd41a90>"
      ]
     },
     "metadata": {},
     "output_type": "display_data"
    },
    {
     "name": "stdout",
     "output_type": "stream",
     "text": [
      "HL% 927.017\n",
      "LastHL% 469.227\n",
      "----------\n",
      "features 2\n",
      "outputs 2\n",
      "h1 84\n",
      "h2 168\n",
      "W1 (84, 2)\n",
      "b1 (84, 1)\n",
      "W2 (168, 84)\n",
      "b2 (168, 1)\n",
      "W3 (2, 168)\n",
      "b3 (2, 1)\n",
      "----------\n",
      "h1: 84 h2: 168 epochs: 50 Lambda: 0.1 Reg: L1 alpha: 0.01\n",
      "last mean validation loss: 0.7\n",
      "last mean training loss: 0.81\n"
     ]
    },
    {
     "data": {
      "image/png": "[encoded data removed]",
      "text/plain": [
       "<matplotlib.figure.Figure at 0x10ed3bd50>"
      ]
     },
     "metadata": {},
     "output_type": "display_data"
    },
    {
     "name": "stdout",
     "output_type": "stream",
     "text": [
      "h1: 84 h2: 168 epochs: 50 Lambda: 0.1 Reg: L1 alpha: 2.70789562817e-28\n",
      "last mean validation loss: 0.7\n",
      "last mean training loss: 0.75\n"
     ]
    },
    {
     "data": {
      "image/png": "[encoded data removed]",
      "text/plain": [
       "<matplotlib.figure.Figure at 0x10fb8e410>"
      ]
     },
     "metadata": {},
     "output_type": "display_data"
    },
    {
     "name": "stdout",
     "output_type": "stream",
     "text": [
      "Open 400.184\n",
      "High 329.341\n",
      "Low 451.872\n",
      "Close 385.253\n",
      "Volume 45.4266\n",
      "50dravg 340.717\n",
      "200dravg 253.144\n",
      "HL% 927.017\n",
      "OH% 425.874\n",
      "LastOpen 392.691\n",
      "LastHigh 347.519\n",
      "LastLow 445.063\n",
      "LastClose 401.314\n",
      "LastHL% 469.227\n",
      "LastOH% 167.658\n",
      "----------\n",
      "features 15\n",
      "outputs 2\n",
      "h1 884\n",
      "h2 1272\n",
      "W1 (884, 15)\n",
      "b1 (884, 1)\n",
      "W2 (1272, 884)\n",
      "b2 (1272, 1)\n",
      "W3 (2, 1272)\n",
      "b3 (2, 1)\n",
      "----------\n"
     ]
    },
    {
     "ename": "KeyboardInterrupt",
     "evalue": "",
     "output_type": "error",
     "traceback": [
      "\u001b[0;31m---------------------------------------------------------------------------\u001b[0m",
      "\u001b[0;31mKeyboardInterrupt\u001b[0m                         Traceback (most recent call last)",
      "\u001b[0;32m<ipython-input-287-125d63f620f4>\u001b[0m in \u001b[0;36m<module>\u001b[0;34m()\u001b[0m\n\u001b[1;32m      2\u001b[0m \u001b[0;31m# RANDOM SEARCH\u001b[0m\u001b[0;34m\u001b[0m\u001b[0;34m\u001b[0m\u001b[0m\n\u001b[1;32m      3\u001b[0m \u001b[0;32mfor\u001b[0m \u001b[0mi\u001b[0m \u001b[0;32min\u001b[0m \u001b[0mxrange\u001b[0m\u001b[0;34m(\u001b[0m\u001b[0;36m20\u001b[0m\u001b[0;34m)\u001b[0m\u001b[0;34m:\u001b[0m\u001b[0;34m\u001b[0m\u001b[0m\n\u001b[0;32m----> 4\u001b[0;31m     \u001b[0mNN\u001b[0m\u001b[0;34m(\u001b[0m\u001b[0mX_df\u001b[0m\u001b[0;34m.\u001b[0m\u001b[0mcolumns\u001b[0m\u001b[0;34m,\u001b[0m\u001b[0mX\u001b[0m\u001b[0;34m,\u001b[0m\u001b[0mY\u001b[0m\u001b[0;34m)\u001b[0m\u001b[0;34m\u001b[0m\u001b[0m\n\u001b[0m",
      "\u001b[0;32m/Users/excalibur/udacity_data_viz_final_project/nn.py\u001b[0m in \u001b[0;36mNN\u001b[0;34m(cols, X, Y)\u001b[0m\n\u001b[1;32m    286\u001b[0m       \u001b[0mb3\u001b[0m \u001b[0;34m=\u001b[0m \u001b[0mb3\u001b[0m \u001b[0;34m+\u001b[0m \u001b[0;34m(\u001b[0m\u001b[0malpha\u001b[0m \u001b[0;34m*\u001b[0m \u001b[0mderiv_b3\u001b[0m\u001b[0;34m)\u001b[0m\u001b[0;34m\u001b[0m\u001b[0m\n\u001b[1;32m    287\u001b[0m \u001b[0;34m\u001b[0m\u001b[0m\n\u001b[0;32m--> 288\u001b[0;31m       \u001b[0mderiv_W2\u001b[0m \u001b[0;34m=\u001b[0m \u001b[0;34m-\u001b[0m\u001b[0mdel_W2\u001b[0m \u001b[0;34m-\u001b[0m \u001b[0;34m(\u001b[0m\u001b[0mLambda\u001b[0m \u001b[0;34m*\u001b[0m \u001b[0mregularizer\u001b[0m\u001b[0;34m(\u001b[0m\u001b[0mReg\u001b[0m\u001b[0;34m,\u001b[0m \u001b[0mW2\u001b[0m\u001b[0;34m)\u001b[0m\u001b[0;34m)\u001b[0m\u001b[0;34m\u001b[0m\u001b[0m\n\u001b[0m\u001b[1;32m    289\u001b[0m       \u001b[0mderiv_b2\u001b[0m \u001b[0;34m=\u001b[0m \u001b[0;34m-\u001b[0m\u001b[0mdel_b2\u001b[0m\u001b[0;34m\u001b[0m\u001b[0m\n\u001b[1;32m    290\u001b[0m       \u001b[0mW2\u001b[0m \u001b[0;34m=\u001b[0m \u001b[0mW2\u001b[0m \u001b[0;34m+\u001b[0m \u001b[0;34m(\u001b[0m\u001b[0malpha\u001b[0m \u001b[0;34m*\u001b[0m \u001b[0mderiv_W2\u001b[0m\u001b[0;34m)\u001b[0m\u001b[0;34m\u001b[0m\u001b[0m\n",
      "\u001b[0;31mKeyboardInterrupt\u001b[0m: "
     ]
    }
   ],
   "source": [
    "from nn import *\n",
    "# RANDOM SEARCH\n",
    "for i in xrange(20):\n",
    "    NN(X_df.columns,X,Y)"
   ]
  }
 ],
 "metadata": {
  "kernelspec": {
   "display_name": "Python 2",
   "language": "python",
   "name": "python2"
  },
  "language_info": {
   "codemirror_mode": {
    "name": "ipython",
    "version": 2
   },
   "file_extension": ".py",
   "mimetype": "text/x-python",
   "name": "python",
   "nbconvert_exporter": "python",
   "pygments_lexer": "ipython2",
   "version": "2.7.10"
  }
 },
 "nbformat": 4,
 "nbformat_minor": 0
}
